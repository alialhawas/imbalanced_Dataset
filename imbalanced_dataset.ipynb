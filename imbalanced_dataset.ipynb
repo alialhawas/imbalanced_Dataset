{
 "cells": [
  {
   "cell_type": "code",
   "execution_count": 60,
   "id": "cf6e96e5",
   "metadata": {},
   "outputs": [],
   "source": [
    "import matplotlib.pyplot as plt\n",
    "import pandas as pd\n",
    "from sklearn import datasets\n",
    "import numpy as np\n",
    "import seaborn as sns\n",
    "import warnings\n",
    "from IPython import display\n",
    "from sklearn.preprocessing import StandardScaler \n",
    "from sklearn.pipeline import Pipeline \n",
    "from sklearn.model_selection import GridSearchCV\n",
    "from sklearn.model_selection import train_test_split\n",
    "from sklearn.impute import SimpleImputer\n",
    "from sklearn.metrics import classification_report\n",
    "from dython.nominal import associations\n",
    "from sklearn.metrics import confusion_matrix \n",
    "from sklearn.svm import SVC\n",
    "warnings.filterwarnings('ignore')\n",
    "%matplotlib inline"
   ]
  },
  {
   "cell_type": "code",
   "execution_count": 2,
   "id": "ef2b4353",
   "metadata": {},
   "outputs": [],
   "source": [
    "df = pd.read_csv('corona_tested_individuals_ver_006.english.csv')"
   ]
  },
  {
   "cell_type": "code",
   "execution_count": 3,
   "id": "d0b8470e",
   "metadata": {},
   "outputs": [
    {
     "data": {
      "text/html": [
       "<div>\n",
       "<style scoped>\n",
       "    .dataframe tbody tr th:only-of-type {\n",
       "        vertical-align: middle;\n",
       "    }\n",
       "\n",
       "    .dataframe tbody tr th {\n",
       "        vertical-align: top;\n",
       "    }\n",
       "\n",
       "    .dataframe thead th {\n",
       "        text-align: right;\n",
       "    }\n",
       "</style>\n",
       "<table border=\"1\" class=\"dataframe\">\n",
       "  <thead>\n",
       "    <tr style=\"text-align: right;\">\n",
       "      <th></th>\n",
       "      <th>test_date</th>\n",
       "      <th>cough</th>\n",
       "      <th>fever</th>\n",
       "      <th>sore_throat</th>\n",
       "      <th>shortness_of_breath</th>\n",
       "      <th>head_ache</th>\n",
       "      <th>corona_result</th>\n",
       "      <th>age_60_and_above</th>\n",
       "      <th>gender</th>\n",
       "      <th>test_indication</th>\n",
       "    </tr>\n",
       "  </thead>\n",
       "  <tbody>\n",
       "    <tr>\n",
       "      <th>count</th>\n",
       "      <td>278848</td>\n",
       "      <td>278848</td>\n",
       "      <td>278848</td>\n",
       "      <td>278848</td>\n",
       "      <td>278848</td>\n",
       "      <td>278848</td>\n",
       "      <td>278848</td>\n",
       "      <td>278848</td>\n",
       "      <td>278848</td>\n",
       "      <td>278848</td>\n",
       "    </tr>\n",
       "    <tr>\n",
       "      <th>unique</th>\n",
       "      <td>51</td>\n",
       "      <td>5</td>\n",
       "      <td>5</td>\n",
       "      <td>5</td>\n",
       "      <td>5</td>\n",
       "      <td>5</td>\n",
       "      <td>3</td>\n",
       "      <td>3</td>\n",
       "      <td>3</td>\n",
       "      <td>3</td>\n",
       "    </tr>\n",
       "    <tr>\n",
       "      <th>top</th>\n",
       "      <td>2020-04-20</td>\n",
       "      <td>0</td>\n",
       "      <td>0</td>\n",
       "      <td>0</td>\n",
       "      <td>0</td>\n",
       "      <td>0</td>\n",
       "      <td>negative</td>\n",
       "      <td>None</td>\n",
       "      <td>female</td>\n",
       "      <td>Other</td>\n",
       "    </tr>\n",
       "    <tr>\n",
       "      <th>freq</th>\n",
       "      <td>10921</td>\n",
       "      <td>121649</td>\n",
       "      <td>133942</td>\n",
       "      <td>260664</td>\n",
       "      <td>261079</td>\n",
       "      <td>260079</td>\n",
       "      <td>260227</td>\n",
       "      <td>127320</td>\n",
       "      <td>130158</td>\n",
       "      <td>242741</td>\n",
       "    </tr>\n",
       "  </tbody>\n",
       "</table>\n",
       "</div>"
      ],
      "text/plain": [
       "         test_date   cough   fever  sore_throat  shortness_of_breath  \\\n",
       "count       278848  278848  278848       278848               278848   \n",
       "unique          51       5       5            5                    5   \n",
       "top     2020-04-20       0       0            0                    0   \n",
       "freq         10921  121649  133942       260664               261079   \n",
       "\n",
       "        head_ache corona_result age_60_and_above  gender test_indication  \n",
       "count      278848        278848           278848  278848          278848  \n",
       "unique          5             3                3       3               3  \n",
       "top             0      negative             None  female           Other  \n",
       "freq       260079        260227           127320  130158          242741  "
      ]
     },
     "execution_count": 3,
     "metadata": {},
     "output_type": "execute_result"
    }
   ],
   "source": [
    "df.describe()"
   ]
  },
  {
   "cell_type": "code",
   "execution_count": 4,
   "id": "b164d98f",
   "metadata": {},
   "outputs": [
    {
     "data": {
      "text/plain": [
       "test_date              0\n",
       "cough                  0\n",
       "fever                  0\n",
       "sore_throat            0\n",
       "shortness_of_breath    0\n",
       "head_ache              0\n",
       "corona_result          0\n",
       "age_60_and_above       0\n",
       "gender                 0\n",
       "test_indication        0\n",
       "dtype: int64"
      ]
     },
     "execution_count": 4,
     "metadata": {},
     "output_type": "execute_result"
    }
   ],
   "source": [
    "df.isna().sum()"
   ]
  },
  {
   "cell_type": "code",
   "execution_count": 5,
   "id": "dac63a4d",
   "metadata": {},
   "outputs": [
    {
     "data": {
      "text/html": [
       "<div>\n",
       "<style scoped>\n",
       "    .dataframe tbody tr th:only-of-type {\n",
       "        vertical-align: middle;\n",
       "    }\n",
       "\n",
       "    .dataframe tbody tr th {\n",
       "        vertical-align: top;\n",
       "    }\n",
       "\n",
       "    .dataframe thead th {\n",
       "        text-align: right;\n",
       "    }\n",
       "</style>\n",
       "<table border=\"1\" class=\"dataframe\">\n",
       "  <thead>\n",
       "    <tr style=\"text-align: right;\">\n",
       "      <th></th>\n",
       "      <th>test_date</th>\n",
       "      <th>cough</th>\n",
       "      <th>fever</th>\n",
       "      <th>sore_throat</th>\n",
       "      <th>shortness_of_breath</th>\n",
       "      <th>head_ache</th>\n",
       "      <th>corona_result</th>\n",
       "      <th>age_60_and_above</th>\n",
       "      <th>gender</th>\n",
       "      <th>test_indication</th>\n",
       "    </tr>\n",
       "  </thead>\n",
       "  <tbody>\n",
       "    <tr>\n",
       "      <th>0</th>\n",
       "      <td>2020-04-30</td>\n",
       "      <td>0</td>\n",
       "      <td>0</td>\n",
       "      <td>0</td>\n",
       "      <td>0</td>\n",
       "      <td>0</td>\n",
       "      <td>negative</td>\n",
       "      <td>None</td>\n",
       "      <td>female</td>\n",
       "      <td>Other</td>\n",
       "    </tr>\n",
       "    <tr>\n",
       "      <th>1</th>\n",
       "      <td>2020-04-30</td>\n",
       "      <td>1</td>\n",
       "      <td>0</td>\n",
       "      <td>0</td>\n",
       "      <td>0</td>\n",
       "      <td>0</td>\n",
       "      <td>negative</td>\n",
       "      <td>None</td>\n",
       "      <td>female</td>\n",
       "      <td>Other</td>\n",
       "    </tr>\n",
       "    <tr>\n",
       "      <th>2</th>\n",
       "      <td>2020-04-30</td>\n",
       "      <td>0</td>\n",
       "      <td>1</td>\n",
       "      <td>0</td>\n",
       "      <td>0</td>\n",
       "      <td>0</td>\n",
       "      <td>negative</td>\n",
       "      <td>None</td>\n",
       "      <td>male</td>\n",
       "      <td>Other</td>\n",
       "    </tr>\n",
       "    <tr>\n",
       "      <th>3</th>\n",
       "      <td>2020-04-30</td>\n",
       "      <td>1</td>\n",
       "      <td>0</td>\n",
       "      <td>0</td>\n",
       "      <td>0</td>\n",
       "      <td>0</td>\n",
       "      <td>negative</td>\n",
       "      <td>None</td>\n",
       "      <td>female</td>\n",
       "      <td>Other</td>\n",
       "    </tr>\n",
       "    <tr>\n",
       "      <th>4</th>\n",
       "      <td>2020-04-30</td>\n",
       "      <td>1</td>\n",
       "      <td>0</td>\n",
       "      <td>0</td>\n",
       "      <td>0</td>\n",
       "      <td>0</td>\n",
       "      <td>negative</td>\n",
       "      <td>None</td>\n",
       "      <td>male</td>\n",
       "      <td>Other</td>\n",
       "    </tr>\n",
       "  </tbody>\n",
       "</table>\n",
       "</div>"
      ],
      "text/plain": [
       "    test_date cough fever sore_throat shortness_of_breath head_ache  \\\n",
       "0  2020-04-30     0     0           0                   0         0   \n",
       "1  2020-04-30     1     0           0                   0         0   \n",
       "2  2020-04-30     0     1           0                   0         0   \n",
       "3  2020-04-30     1     0           0                   0         0   \n",
       "4  2020-04-30     1     0           0                   0         0   \n",
       "\n",
       "  corona_result age_60_and_above  gender test_indication  \n",
       "0      negative             None  female           Other  \n",
       "1      negative             None  female           Other  \n",
       "2      negative             None    male           Other  \n",
       "3      negative             None  female           Other  \n",
       "4      negative             None    male           Other  "
      ]
     },
     "execution_count": 5,
     "metadata": {},
     "output_type": "execute_result"
    }
   ],
   "source": [
    "df.head()"
   ]
  },
  {
   "cell_type": "code",
   "execution_count": 6,
   "id": "e03288c5",
   "metadata": {},
   "outputs": [
    {
     "name": "stdout",
     "output_type": "stream",
     "text": [
      "<class 'pandas.core.frame.DataFrame'>\n",
      "RangeIndex: 278848 entries, 0 to 278847\n",
      "Data columns (total 10 columns):\n",
      " #   Column               Non-Null Count   Dtype \n",
      "---  ------               --------------   ----- \n",
      " 0   test_date            278848 non-null  object\n",
      " 1   cough                278848 non-null  object\n",
      " 2   fever                278848 non-null  object\n",
      " 3   sore_throat          278848 non-null  object\n",
      " 4   shortness_of_breath  278848 non-null  object\n",
      " 5   head_ache            278848 non-null  object\n",
      " 6   corona_result        278848 non-null  object\n",
      " 7   age_60_and_above     278848 non-null  object\n",
      " 8   gender               278848 non-null  object\n",
      " 9   test_indication      278848 non-null  object\n",
      "dtypes: object(10)\n",
      "memory usage: 21.3+ MB\n"
     ]
    }
   ],
   "source": [
    "df.info()"
   ]
  },
  {
   "cell_type": "markdown",
   "id": "1179ba31",
   "metadata": {},
   "source": [
    "# we can see already that's the type in each column is an object and that may cause some problems"
   ]
  },
  {
   "cell_type": "code",
   "execution_count": 7,
   "id": "e3ccc92e",
   "metadata": {},
   "outputs": [
    {
     "data": {
      "text/plain": [
       "Text(0.5, 1.0, 'The Count in the column Fever')"
      ]
     },
     "execution_count": 7,
     "metadata": {},
     "output_type": "execute_result"
    },
    {
     "data": {
      "image/png": "[encoded data removed]",
      "text/plain": [
       "<Figure size 432x288 with 1 Axes>"
      ]
     },
     "metadata": {
      "needs_background": "light"
     },
     "output_type": "display_data"
    }
   ],
   "source": [
    "sns.countplot(df['fever'])\n",
    "plt.title(\"The Count in the column Fever\")"
   ]
  },
  {
   "cell_type": "markdown",
   "id": "41eb11e5",
   "metadata": {},
   "source": [
    "# there's two types of ones and two types of zeros!\n",
    "\n",
    "# we can see it's unbalanced we have a huge margin between the one and the  zero"
   ]
  },
  {
   "cell_type": "code",
   "execution_count": 8,
   "id": "bbb072da",
   "metadata": {},
   "outputs": [
    {
     "data": {
      "text/plain": [
       "Text(0.5, 1.0, 'The Count in the column sore throat')"
      ]
     },
     "execution_count": 8,
     "metadata": {},
     "output_type": "execute_result"
    },
    {
     "data": {
      "image/png": "[encoded data removed]",
      "text/plain": [
       "<Figure size 432x288 with 1 Axes>"
      ]
     },
     "metadata": {
      "needs_background": "light"
     },
     "output_type": "display_data"
    }
   ],
   "source": [
    "sns.countplot(df['sore_throat'])\n",
    "plt.title(\"The Count in the column sore throat\")"
   ]
  },
  {
   "cell_type": "markdown",
   "id": "b4c9d94a",
   "metadata": {},
   "source": [
    "# we can see clearly that it is imbalanced  and there is two types of ones and zeros "
   ]
  },
  {
   "cell_type": "code",
   "execution_count": 9,
   "id": "7c03e7b0",
   "metadata": {},
   "outputs": [
    {
     "data": {
      "text/plain": [
       "1"
      ]
     },
     "execution_count": 9,
     "metadata": {},
     "output_type": "execute_result"
    }
   ],
   "source": [
    "list(df.sore_throat).count('None')"
   ]
  },
  {
   "cell_type": "markdown",
   "id": "2ad41fd7",
   "metadata": {},
   "source": [
    "# we can see that we have one None in the column sore_throat"
   ]
  },
  {
   "cell_type": "code",
   "execution_count": 10,
   "id": "c6a8f8d0",
   "metadata": {},
   "outputs": [
    {
     "data": {
      "text/plain": [
       "446"
      ]
     },
     "execution_count": 10,
     "metadata": {},
     "output_type": "execute_result"
    }
   ],
   "source": [
    "list(df.sore_throat).count('1')"
   ]
  },
  {
   "cell_type": "code",
   "execution_count": 11,
   "id": "e83af0dd",
   "metadata": {},
   "outputs": [
    {
     "data": {
      "text/plain": [
       "Text(0.5, 1.0, ' Count in the column shortness of breath')"
      ]
     },
     "execution_count": 11,
     "metadata": {},
     "output_type": "execute_result"
    },
    {
     "data": {
      "image/png": "[encoded data removed]",
      "text/plain": [
       "<Figure size 432x288 with 1 Axes>"
      ]
     },
     "metadata": {
      "needs_background": "light"
     },
     "output_type": "display_data"
    }
   ],
   "source": [
    "sns.countplot(df['shortness_of_breath'])\n",
    "plt.title(\" Count in the column shortness of breath\")"
   ]
  },
  {
   "cell_type": "markdown",
   "id": "ff94a26f",
   "metadata": {},
   "source": [
    "# we can see clearly that it is imbalanced  and there is two types of ones and zeros "
   ]
  },
  {
   "cell_type": "code",
   "execution_count": 12,
   "id": "d68a9bef",
   "metadata": {},
   "outputs": [
    {
     "data": {
      "text/plain": [
       "Text(0.5, 1.0, 'Count in column Head Ache')"
      ]
     },
     "execution_count": 12,
     "metadata": {},
     "output_type": "execute_result"
    },
    {
     "data": {
      "image/png": "[encoded data removed]",
      "text/plain": [
       "<Figure size 432x288 with 1 Axes>"
      ]
     },
     "metadata": {
      "needs_background": "light"
     },
     "output_type": "display_data"
    }
   ],
   "source": [
    "sns.countplot(df['head_ache'])\n",
    "plt.title(\"Count in column Head Ache\")"
   ]
  },
  {
   "cell_type": "markdown",
   "id": "5f10ed5e",
   "metadata": {},
   "source": [
    "# we can see clearly that it is imbalanced  and there is two types of ones and zeros "
   ]
  },
  {
   "cell_type": "code",
   "execution_count": 13,
   "id": "8ecff2de",
   "metadata": {},
   "outputs": [
    {
     "data": {
      "text/plain": [
       "Text(0.5, 1.0, 'Count in corona result')"
      ]
     },
     "execution_count": 13,
     "metadata": {},
     "output_type": "execute_result"
    },
    {
     "data": {
      "image/png": "[encoded data removed]",
      "text/plain": [
       "<Figure size 432x288 with 1 Axes>"
      ]
     },
     "metadata": {
      "needs_background": "light"
     },
     "output_type": "display_data"
    }
   ],
   "source": [
    "sns.countplot(df['corona_result'])\n",
    "plt.title(\"Count in corona result\")"
   ]
  },
  {
   "cell_type": "markdown",
   "id": "22e11bac",
   "metadata": {},
   "source": [
    "# we can see we have \"other\" this can beclassified as missing values? and we can see it's an imbalanced "
   ]
  },
  {
   "cell_type": "code",
   "execution_count": 14,
   "id": "c0ff2026",
   "metadata": {},
   "outputs": [
    {
     "data": {
      "text/plain": [
       "Text(0.5, 1.0, ' Count in age 60 and above ')"
      ]
     },
     "execution_count": 14,
     "metadata": {},
     "output_type": "execute_result"
    },
    {
     "data": {
      "image/png": "[encoded data removed]",
      "text/plain": [
       "<Figure size 432x288 with 1 Axes>"
      ]
     },
     "metadata": {
      "needs_background": "light"
     },
     "output_type": "display_data"
    }
   ],
   "source": [
    "sns.countplot(df['age_60_and_above'])\n",
    "plt.title(\" Count in age 60 and above \")"
   ]
  },
  {
   "cell_type": "code",
   "execution_count": 15,
   "id": "6e93e9d0",
   "metadata": {},
   "outputs": [
    {
     "data": {
      "text/plain": [
       "Text(0.5, 1.0, 'Count in column gender')"
      ]
     },
     "execution_count": 15,
     "metadata": {},
     "output_type": "execute_result"
    },
    {
     "data": {
      "image/png": "[encoded data removed]",
      "text/plain": [
       "<Figure size 432x288 with 1 Axes>"
      ]
     },
     "metadata": {
      "needs_background": "light"
     },
     "output_type": "display_data"
    }
   ],
   "source": [
    "sns.countplot(df['gender'])\n",
    "plt.title(\"Count in column gender\")"
   ]
  },
  {
   "cell_type": "markdown",
   "id": "63f732d4",
   "metadata": {},
   "source": [
    "# Perfect Distribution"
   ]
  },
  {
   "cell_type": "code",
   "execution_count": 16,
   "id": "ac453e00",
   "metadata": {},
   "outputs": [
    {
     "data": {
      "text/plain": [
       "Text(0.5, 1.0, 'Count in test indication')"
      ]
     },
     "execution_count": 16,
     "metadata": {},
     "output_type": "execute_result"
    },
    {
     "data": {
      "image/png": "[encoded data removed]",
      "text/plain": [
       "<Figure size 432x288 with 1 Axes>"
      ]
     },
     "metadata": {
      "needs_background": "light"
     },
     "output_type": "display_data"
    }
   ],
   "source": [
    "sns.countplot(df['test_indication'])\n",
    "plt.title(\"Count in test indication\")"
   ]
  },
  {
   "cell_type": "markdown",
   "id": "1828c069",
   "metadata": {},
   "source": [
    "# We have some continuous columns and some categorically columns so the DF. Corr doesn't work on categorical columns so I found this Library called dython I read about it in this article : https://towardsdatascience.com/the-search-for-categorical-correlation-a1cf7f1888c9"
   ]
  },
  {
   "cell_type": "code",
   "execution_count": 69,
   "id": "3e681726",
   "metadata": {},
   "outputs": [
    {
     "data": {
      "image/png": "[encoded data removed]",
      "text/plain": [
       "<Figure size 1080x1080 with 2 Axes>"
      ]
     },
     "metadata": {
      "needs_background": "light"
     },
     "output_type": "display_data"
    },
    {
     "data": {
      "text/plain": [
       "{'corr':                            cough (nom)  fever (nom)  sore_throat (nom)  \\\n",
       " cough (nom)                   1.000000     0.069725           0.021716   \n",
       " fever (nom)                   0.069725     1.000000           0.075031   \n",
       " sore_throat (nom)             0.021716     0.075031           1.000000   \n",
       " shortness_of_breath (nom)     0.000000     0.094878           0.180837   \n",
       " head_ache (nom)               0.060616     0.120808           0.308160   \n",
       " corona_result (nom)           0.284892     0.120649           0.279966   \n",
       " age_60_and_above (nom)        0.043176     0.044731           0.000000   \n",
       " gender (nom)                  0.023723     0.060107           0.052696   \n",
       " test_indication (nom)         0.250590     0.060993           0.192995   \n",
       " \n",
       "                            shortness_of_breath (nom)  head_ache (nom)  \\\n",
       " cough (nom)                                 0.000000         0.060616   \n",
       " fever (nom)                                 0.094878         0.120808   \n",
       " sore_throat (nom)                           0.180837         0.308160   \n",
       " shortness_of_breath (nom)                   1.000000         0.189112   \n",
       " head_ache (nom)                             0.189112         1.000000   \n",
       " corona_result (nom)                         0.241415         0.364396   \n",
       " age_60_and_above (nom)                      0.038432         0.006976   \n",
       " gender (nom)                                0.093287         0.050304   \n",
       " test_indication (nom)                       0.146911         0.245600   \n",
       " \n",
       "                            corona_result (nom)  age_60_and_above (nom)  \\\n",
       " cough (nom)                           0.284892                0.043176   \n",
       " fever (nom)                           0.120649                0.044731   \n",
       " sore_throat (nom)                     0.279966                0.000000   \n",
       " shortness_of_breath (nom)             0.241415                0.038432   \n",
       " head_ache (nom)                       0.364396                0.006976   \n",
       " corona_result (nom)                   1.000000                0.087827   \n",
       " age_60_and_above (nom)                0.087827                1.000000   \n",
       " gender (nom)                          0.070448                0.033689   \n",
       " test_indication (nom)                 0.609353                0.032049   \n",
       " \n",
       "                            gender (nom)  test_indication (nom)  \n",
       " cough (nom)                    0.023723               0.250590  \n",
       " fever (nom)                    0.060107               0.060993  \n",
       " sore_throat (nom)              0.052696               0.192995  \n",
       " shortness_of_breath (nom)      0.093287               0.146911  \n",
       " head_ache (nom)                0.050304               0.245600  \n",
       " corona_result (nom)            0.070448               0.609353  \n",
       " age_60_and_above (nom)         0.033689               0.032049  \n",
       " gender (nom)                   1.000000               0.009186  \n",
       " test_indication (nom)          0.009186               1.000000  ,\n",
       " 'ax': <AxesSubplot:>}"
      ]
     },
     "execution_count": 69,
     "metadata": {},
     "output_type": "execute_result"
    }
   ],
   "source": [
    "associations(df,mark_columns=True ,nominal_columns=\"all\", figsize=(15,15))"
   ]
  },
  {
   "cell_type": "markdown",
   "id": "608b3547",
   "metadata": {},
   "source": [
    "# you can see clearly that the data set is imbalanced "
   ]
  },
  {
   "cell_type": "markdown",
   "id": "00a09190",
   "metadata": {},
   "source": [
    "# To fix the imbalanced dataset we can approach it in different ways\n",
    "\n",
    "# we can oversampl minority class or undersampl the majority class or the thrid option ensemble method which is if we have 3000 in the majority class and 1000 in the minority class \n",
    "\n",
    "# you bulid three models with 1000 in each class then take a majority vote\n",
    "\n",
    "\n"
   ]
  },
  {
   "cell_type": "code",
   "execution_count": 17,
   "id": "d41961e7",
   "metadata": {},
   "outputs": [
    {
     "data": {
      "image/png": "[encoded data removed]",
      "text/plain": [
       "<IPython.core.display.Image object>"
      ]
     },
     "execution_count": 17,
     "metadata": {},
     "output_type": "execute_result"
    }
   ],
   "source": [
    "display.Image(\"Random-a-over-sampling-b-under-sampling.png\")"
   ]
  },
  {
   "cell_type": "code",
   "execution_count": 18,
   "id": "3bd5cc43",
   "metadata": {},
   "outputs": [
    {
     "data": {
      "image/png": "[encoded data removed]",
      "text/plain": [
       "<IPython.core.display.Image object>"
      ]
     },
     "execution_count": 18,
     "metadata": {},
     "output_type": "execute_result"
    }
   ],
   "source": [
    "display.Image(\"imbalanced-data-2.png\")"
   ]
  },
  {
   "cell_type": "code",
   "execution_count": 19,
   "id": "e8656d1e",
   "metadata": {},
   "outputs": [
    {
     "data": {
      "text/html": [
       "<div>\n",
       "<style scoped>\n",
       "    .dataframe tbody tr th:only-of-type {\n",
       "        vertical-align: middle;\n",
       "    }\n",
       "\n",
       "    .dataframe tbody tr th {\n",
       "        vertical-align: top;\n",
       "    }\n",
       "\n",
       "    .dataframe thead th {\n",
       "        text-align: right;\n",
       "    }\n",
       "</style>\n",
       "<table border=\"1\" class=\"dataframe\">\n",
       "  <thead>\n",
       "    <tr style=\"text-align: right;\">\n",
       "      <th></th>\n",
       "      <th>test_date</th>\n",
       "      <th>cough</th>\n",
       "      <th>fever</th>\n",
       "      <th>sore_throat</th>\n",
       "      <th>shortness_of_breath</th>\n",
       "      <th>head_ache</th>\n",
       "      <th>corona_result</th>\n",
       "      <th>age_60_and_above</th>\n",
       "      <th>gender</th>\n",
       "      <th>test_indication</th>\n",
       "    </tr>\n",
       "  </thead>\n",
       "  <tbody>\n",
       "    <tr>\n",
       "      <th>278843</th>\n",
       "      <td>2020-03-11</td>\n",
       "      <td>0</td>\n",
       "      <td>0</td>\n",
       "      <td>0</td>\n",
       "      <td>0</td>\n",
       "      <td>0</td>\n",
       "      <td>negative</td>\n",
       "      <td>None</td>\n",
       "      <td>None</td>\n",
       "      <td>Other</td>\n",
       "    </tr>\n",
       "    <tr>\n",
       "      <th>278844</th>\n",
       "      <td>2020-03-11</td>\n",
       "      <td>0</td>\n",
       "      <td>0</td>\n",
       "      <td>0</td>\n",
       "      <td>0</td>\n",
       "      <td>0</td>\n",
       "      <td>negative</td>\n",
       "      <td>None</td>\n",
       "      <td>None</td>\n",
       "      <td>Other</td>\n",
       "    </tr>\n",
       "    <tr>\n",
       "      <th>278845</th>\n",
       "      <td>2020-03-11</td>\n",
       "      <td>0</td>\n",
       "      <td>0</td>\n",
       "      <td>0</td>\n",
       "      <td>0</td>\n",
       "      <td>0</td>\n",
       "      <td>positive</td>\n",
       "      <td>None</td>\n",
       "      <td>None</td>\n",
       "      <td>Contact with confirmed</td>\n",
       "    </tr>\n",
       "    <tr>\n",
       "      <th>278846</th>\n",
       "      <td>2020-03-11</td>\n",
       "      <td>0</td>\n",
       "      <td>0</td>\n",
       "      <td>0</td>\n",
       "      <td>0</td>\n",
       "      <td>0</td>\n",
       "      <td>other</td>\n",
       "      <td>None</td>\n",
       "      <td>None</td>\n",
       "      <td>Other</td>\n",
       "    </tr>\n",
       "    <tr>\n",
       "      <th>278847</th>\n",
       "      <td>2020-03-11</td>\n",
       "      <td>0</td>\n",
       "      <td>0</td>\n",
       "      <td>0</td>\n",
       "      <td>0</td>\n",
       "      <td>0</td>\n",
       "      <td>negative</td>\n",
       "      <td>None</td>\n",
       "      <td>None</td>\n",
       "      <td>Other</td>\n",
       "    </tr>\n",
       "  </tbody>\n",
       "</table>\n",
       "</div>"
      ],
      "text/plain": [
       "         test_date cough fever sore_throat shortness_of_breath head_ache  \\\n",
       "278843  2020-03-11     0     0           0                   0         0   \n",
       "278844  2020-03-11     0     0           0                   0         0   \n",
       "278845  2020-03-11     0     0           0                   0         0   \n",
       "278846  2020-03-11     0     0           0                   0         0   \n",
       "278847  2020-03-11     0     0           0                   0         0   \n",
       "\n",
       "       corona_result age_60_and_above gender         test_indication  \n",
       "278843      negative             None   None                   Other  \n",
       "278844      negative             None   None                   Other  \n",
       "278845      positive             None   None  Contact with confirmed  \n",
       "278846         other             None   None                   Other  \n",
       "278847      negative             None   None                   Other  "
      ]
     },
     "execution_count": 19,
     "metadata": {},
     "output_type": "execute_result"
    }
   ],
   "source": [
    "df.tail()"
   ]
  },
  {
   "cell_type": "markdown",
   "id": "6dcbd046",
   "metadata": {},
   "source": [
    "# First we drop the date column "
   ]
  },
  {
   "cell_type": "code",
   "execution_count": 20,
   "id": "a17b1ffa",
   "metadata": {},
   "outputs": [],
   "source": [
    "df.drop(\"test_date\", axis=1, inplace=True)"
   ]
  },
  {
   "cell_type": "code",
   "execution_count": 21,
   "id": "74a81ead",
   "metadata": {},
   "outputs": [
    {
     "data": {
      "text/html": [
       "<div>\n",
       "<style scoped>\n",
       "    .dataframe tbody tr th:only-of-type {\n",
       "        vertical-align: middle;\n",
       "    }\n",
       "\n",
       "    .dataframe tbody tr th {\n",
       "        vertical-align: top;\n",
       "    }\n",
       "\n",
       "    .dataframe thead th {\n",
       "        text-align: right;\n",
       "    }\n",
       "</style>\n",
       "<table border=\"1\" class=\"dataframe\">\n",
       "  <thead>\n",
       "    <tr style=\"text-align: right;\">\n",
       "      <th></th>\n",
       "      <th>cough</th>\n",
       "      <th>fever</th>\n",
       "      <th>sore_throat</th>\n",
       "      <th>shortness_of_breath</th>\n",
       "      <th>head_ache</th>\n",
       "      <th>corona_result</th>\n",
       "      <th>age_60_and_above</th>\n",
       "      <th>gender</th>\n",
       "      <th>test_indication</th>\n",
       "    </tr>\n",
       "  </thead>\n",
       "  <tbody>\n",
       "    <tr>\n",
       "      <th>0</th>\n",
       "      <td>0</td>\n",
       "      <td>0</td>\n",
       "      <td>0</td>\n",
       "      <td>0</td>\n",
       "      <td>0</td>\n",
       "      <td>negative</td>\n",
       "      <td>None</td>\n",
       "      <td>female</td>\n",
       "      <td>Other</td>\n",
       "    </tr>\n",
       "    <tr>\n",
       "      <th>1</th>\n",
       "      <td>1</td>\n",
       "      <td>0</td>\n",
       "      <td>0</td>\n",
       "      <td>0</td>\n",
       "      <td>0</td>\n",
       "      <td>negative</td>\n",
       "      <td>None</td>\n",
       "      <td>female</td>\n",
       "      <td>Other</td>\n",
       "    </tr>\n",
       "    <tr>\n",
       "      <th>2</th>\n",
       "      <td>0</td>\n",
       "      <td>1</td>\n",
       "      <td>0</td>\n",
       "      <td>0</td>\n",
       "      <td>0</td>\n",
       "      <td>negative</td>\n",
       "      <td>None</td>\n",
       "      <td>male</td>\n",
       "      <td>Other</td>\n",
       "    </tr>\n",
       "    <tr>\n",
       "      <th>3</th>\n",
       "      <td>1</td>\n",
       "      <td>0</td>\n",
       "      <td>0</td>\n",
       "      <td>0</td>\n",
       "      <td>0</td>\n",
       "      <td>negative</td>\n",
       "      <td>None</td>\n",
       "      <td>female</td>\n",
       "      <td>Other</td>\n",
       "    </tr>\n",
       "    <tr>\n",
       "      <th>4</th>\n",
       "      <td>1</td>\n",
       "      <td>0</td>\n",
       "      <td>0</td>\n",
       "      <td>0</td>\n",
       "      <td>0</td>\n",
       "      <td>negative</td>\n",
       "      <td>None</td>\n",
       "      <td>male</td>\n",
       "      <td>Other</td>\n",
       "    </tr>\n",
       "    <tr>\n",
       "      <th>...</th>\n",
       "      <td>...</td>\n",
       "      <td>...</td>\n",
       "      <td>...</td>\n",
       "      <td>...</td>\n",
       "      <td>...</td>\n",
       "      <td>...</td>\n",
       "      <td>...</td>\n",
       "      <td>...</td>\n",
       "      <td>...</td>\n",
       "    </tr>\n",
       "    <tr>\n",
       "      <th>278843</th>\n",
       "      <td>0</td>\n",
       "      <td>0</td>\n",
       "      <td>0</td>\n",
       "      <td>0</td>\n",
       "      <td>0</td>\n",
       "      <td>negative</td>\n",
       "      <td>None</td>\n",
       "      <td>None</td>\n",
       "      <td>Other</td>\n",
       "    </tr>\n",
       "    <tr>\n",
       "      <th>278844</th>\n",
       "      <td>0</td>\n",
       "      <td>0</td>\n",
       "      <td>0</td>\n",
       "      <td>0</td>\n",
       "      <td>0</td>\n",
       "      <td>negative</td>\n",
       "      <td>None</td>\n",
       "      <td>None</td>\n",
       "      <td>Other</td>\n",
       "    </tr>\n",
       "    <tr>\n",
       "      <th>278845</th>\n",
       "      <td>0</td>\n",
       "      <td>0</td>\n",
       "      <td>0</td>\n",
       "      <td>0</td>\n",
       "      <td>0</td>\n",
       "      <td>positive</td>\n",
       "      <td>None</td>\n",
       "      <td>None</td>\n",
       "      <td>Contact with confirmed</td>\n",
       "    </tr>\n",
       "    <tr>\n",
       "      <th>278846</th>\n",
       "      <td>0</td>\n",
       "      <td>0</td>\n",
       "      <td>0</td>\n",
       "      <td>0</td>\n",
       "      <td>0</td>\n",
       "      <td>other</td>\n",
       "      <td>None</td>\n",
       "      <td>None</td>\n",
       "      <td>Other</td>\n",
       "    </tr>\n",
       "    <tr>\n",
       "      <th>278847</th>\n",
       "      <td>0</td>\n",
       "      <td>0</td>\n",
       "      <td>0</td>\n",
       "      <td>0</td>\n",
       "      <td>0</td>\n",
       "      <td>negative</td>\n",
       "      <td>None</td>\n",
       "      <td>None</td>\n",
       "      <td>Other</td>\n",
       "    </tr>\n",
       "  </tbody>\n",
       "</table>\n",
       "<p>278848 rows × 9 columns</p>\n",
       "</div>"
      ],
      "text/plain": [
       "       cough fever sore_throat shortness_of_breath head_ache corona_result  \\\n",
       "0          0     0           0                   0         0      negative   \n",
       "1          1     0           0                   0         0      negative   \n",
       "2          0     1           0                   0         0      negative   \n",
       "3          1     0           0                   0         0      negative   \n",
       "4          1     0           0                   0         0      negative   \n",
       "...      ...   ...         ...                 ...       ...           ...   \n",
       "278843     0     0           0                   0         0      negative   \n",
       "278844     0     0           0                   0         0      negative   \n",
       "278845     0     0           0                   0         0      positive   \n",
       "278846     0     0           0                   0         0         other   \n",
       "278847     0     0           0                   0         0      negative   \n",
       "\n",
       "       age_60_and_above  gender         test_indication  \n",
       "0                  None  female                   Other  \n",
       "1                  None  female                   Other  \n",
       "2                  None    male                   Other  \n",
       "3                  None  female                   Other  \n",
       "4                  None    male                   Other  \n",
       "...                 ...     ...                     ...  \n",
       "278843             None    None                   Other  \n",
       "278844             None    None                   Other  \n",
       "278845             None    None  Contact with confirmed  \n",
       "278846             None    None                   Other  \n",
       "278847             None    None                   Other  \n",
       "\n",
       "[278848 rows x 9 columns]"
      ]
     },
     "execution_count": 21,
     "metadata": {},
     "output_type": "execute_result"
    }
   ],
   "source": [
    "df"
   ]
  },
  {
   "cell_type": "code",
   "execution_count": 22,
   "id": "33c95bc4",
   "metadata": {},
   "outputs": [
    {
     "data": {
      "text/plain": [
       "cough                  0.000904\n",
       "fever                  0.000904\n",
       "sore_throat            0.000904\n",
       "shortness_of_breath    0.000904\n",
       "head_ache              0.000904\n",
       "corona_result          0.000904\n",
       "age_60_and_above       0.000904\n",
       "gender                 0.000904\n",
       "test_indication        0.000904\n",
       "dtype: float64"
      ]
     },
     "execution_count": 22,
     "metadata": {},
     "output_type": "execute_result"
    }
   ],
   "source": [
    "(df[df['cough']=='None'].count())/278848\n"
   ]
  },
  {
   "cell_type": "markdown",
   "id": "1b933ae7",
   "metadata": {},
   "source": [
    "# The Missing values are extremely minuscule"
   ]
  },
  {
   "cell_type": "markdown",
   "id": "bc311e9e",
   "metadata": {},
   "source": [
    "# Now We Fix the Types in The DF "
   ]
  },
  {
   "cell_type": "code",
   "execution_count": 23,
   "id": "b668cf40",
   "metadata": {},
   "outputs": [],
   "source": [
    "df = df[df.head_ache != 'None']\n",
    "df = df[df.corona_result != 'other']\n",
    "df = df[df.age_60_and_above != 'None']\n",
    "df = df[df.test_indication != 'Other']\n",
    "df = df[df.cough != 'None']\n",
    "\n",
    "\n",
    "df['cough'] = df['cough'].astype(float) \n",
    "df['sore_throat'] = df['sore_throat'].astype(float) \n",
    "df['shortness_of_breath'] = df['shortness_of_breath'].astype(float) \n",
    "df['head_ache'] = df['head_ache'].astype(float) \n",
    "df['shortness_of_breath'] = df['shortness_of_breath'].astype(float) "
   ]
  },
  {
   "cell_type": "code",
   "execution_count": 24,
   "id": "7ce8ca5d",
   "metadata": {},
   "outputs": [
    {
     "name": "stdout",
     "output_type": "stream",
     "text": [
      "<class 'pandas.core.frame.DataFrame'>\n",
      "Int64Index: 23394 entries, 122811 to 274334\n",
      "Data columns (total 9 columns):\n",
      " #   Column               Non-Null Count  Dtype  \n",
      "---  ------               --------------  -----  \n",
      " 0   cough                23394 non-null  float64\n",
      " 1   fever                23394 non-null  object \n",
      " 2   sore_throat          23394 non-null  float64\n",
      " 3   shortness_of_breath  23394 non-null  float64\n",
      " 4   head_ache            23394 non-null  float64\n",
      " 5   corona_result        23394 non-null  object \n",
      " 6   age_60_and_above     23394 non-null  object \n",
      " 7   gender               23394 non-null  object \n",
      " 8   test_indication      23394 non-null  object \n",
      "dtypes: float64(4), object(5)\n",
      "memory usage: 1.8+ MB\n"
     ]
    }
   ],
   "source": [
    "df.info()"
   ]
  },
  {
   "cell_type": "code",
   "execution_count": 25,
   "id": "ba962c91",
   "metadata": {},
   "outputs": [],
   "source": [
    "# creating a DataFrame\n",
    "d = {'cough': [0,1],\n",
    "        'fever': [0,1],\n",
    "        'sore_throat': [0,1],\n",
    "        'shortness_of_breath': [0,1],\n",
    "        'head_ache': [0,1],\n",
    "        'corona_result': ['negative','positive', 'other'],\n",
    "        'age_60_and_above': ['None','Yes','No'],\n",
    "        'gender': ['female','male','None'],\n",
    "        'test_indication': ['Contact with confirmed','Other','Abroad'],}\n",
    "\n",
    "\n",
    "#df = pd.DataFrame (data=d)\n",
    "\n",
    "\n",
    "#error ValueError: arrays must all be same length"
   ]
  },
  {
   "cell_type": "markdown",
   "id": "9ea6de2b",
   "metadata": {},
   "source": [
    "# Checking the length of each column"
   ]
  },
  {
   "cell_type": "code",
   "execution_count": 26,
   "id": "0c4696c6",
   "metadata": {},
   "outputs": [
    {
     "name": "stdout",
     "output_type": "stream",
     "text": [
      "23394 23394 23394 23394 23394 23394 23394 23394 23394\n"
     ]
    }
   ],
   "source": [
    "print(len(df['cough']), len(df['fever']), len(df['sore_throat']),  len(df['shortness_of_breath']) , len(df['head_ache']) \n",
    ", len(df['corona_result']) , len(df['age_60_and_above']) , len(df['gender']) , len(df['test_indication']))"
   ]
  },
  {
   "cell_type": "code",
   "execution_count": 27,
   "id": "470bd4c0",
   "metadata": {
    "scrolled": true
   },
   "outputs": [
    {
     "data": {
      "text/html": [
       "<div>\n",
       "<style scoped>\n",
       "    .dataframe tbody tr th:only-of-type {\n",
       "        vertical-align: middle;\n",
       "    }\n",
       "\n",
       "    .dataframe tbody tr th {\n",
       "        vertical-align: top;\n",
       "    }\n",
       "\n",
       "    .dataframe thead th {\n",
       "        text-align: right;\n",
       "    }\n",
       "</style>\n",
       "<table border=\"1\" class=\"dataframe\">\n",
       "  <thead>\n",
       "    <tr style=\"text-align: right;\">\n",
       "      <th></th>\n",
       "      <th>cough</th>\n",
       "      <th>fever</th>\n",
       "      <th>sore_throat</th>\n",
       "      <th>shortness_of_breath</th>\n",
       "      <th>head_ache</th>\n",
       "      <th>corona_result</th>\n",
       "      <th>age_60_and_above</th>\n",
       "      <th>gender</th>\n",
       "      <th>test_indication</th>\n",
       "    </tr>\n",
       "  </thead>\n",
       "  <tbody>\n",
       "    <tr>\n",
       "      <th>122811</th>\n",
       "      <td>0.0</td>\n",
       "      <td>1</td>\n",
       "      <td>0.0</td>\n",
       "      <td>0.0</td>\n",
       "      <td>0.0</td>\n",
       "      <td>negative</td>\n",
       "      <td>No</td>\n",
       "      <td>female</td>\n",
       "      <td>Abroad</td>\n",
       "    </tr>\n",
       "    <tr>\n",
       "      <th>122814</th>\n",
       "      <td>0.0</td>\n",
       "      <td>0</td>\n",
       "      <td>0.0</td>\n",
       "      <td>0.0</td>\n",
       "      <td>0.0</td>\n",
       "      <td>negative</td>\n",
       "      <td>No</td>\n",
       "      <td>female</td>\n",
       "      <td>Abroad</td>\n",
       "    </tr>\n",
       "    <tr>\n",
       "      <th>122815</th>\n",
       "      <td>1.0</td>\n",
       "      <td>0</td>\n",
       "      <td>0.0</td>\n",
       "      <td>0.0</td>\n",
       "      <td>0.0</td>\n",
       "      <td>positive</td>\n",
       "      <td>No</td>\n",
       "      <td>female</td>\n",
       "      <td>Contact with confirmed</td>\n",
       "    </tr>\n",
       "    <tr>\n",
       "      <th>122823</th>\n",
       "      <td>1.0</td>\n",
       "      <td>1</td>\n",
       "      <td>1.0</td>\n",
       "      <td>0.0</td>\n",
       "      <td>0.0</td>\n",
       "      <td>negative</td>\n",
       "      <td>No</td>\n",
       "      <td>male</td>\n",
       "      <td>Contact with confirmed</td>\n",
       "    </tr>\n",
       "    <tr>\n",
       "      <th>122824</th>\n",
       "      <td>0.0</td>\n",
       "      <td>0</td>\n",
       "      <td>0.0</td>\n",
       "      <td>0.0</td>\n",
       "      <td>0.0</td>\n",
       "      <td>negative</td>\n",
       "      <td>No</td>\n",
       "      <td>male</td>\n",
       "      <td>Contact with confirmed</td>\n",
       "    </tr>\n",
       "    <tr>\n",
       "      <th>...</th>\n",
       "      <td>...</td>\n",
       "      <td>...</td>\n",
       "      <td>...</td>\n",
       "      <td>...</td>\n",
       "      <td>...</td>\n",
       "      <td>...</td>\n",
       "      <td>...</td>\n",
       "      <td>...</td>\n",
       "      <td>...</td>\n",
       "    </tr>\n",
       "    <tr>\n",
       "      <th>274297</th>\n",
       "      <td>0.0</td>\n",
       "      <td>1</td>\n",
       "      <td>0.0</td>\n",
       "      <td>0.0</td>\n",
       "      <td>1.0</td>\n",
       "      <td>positive</td>\n",
       "      <td>No</td>\n",
       "      <td>None</td>\n",
       "      <td>Contact with confirmed</td>\n",
       "    </tr>\n",
       "    <tr>\n",
       "      <th>274309</th>\n",
       "      <td>0.0</td>\n",
       "      <td>0</td>\n",
       "      <td>0.0</td>\n",
       "      <td>0.0</td>\n",
       "      <td>0.0</td>\n",
       "      <td>positive</td>\n",
       "      <td>Yes</td>\n",
       "      <td>None</td>\n",
       "      <td>Contact with confirmed</td>\n",
       "    </tr>\n",
       "    <tr>\n",
       "      <th>274315</th>\n",
       "      <td>1.0</td>\n",
       "      <td>1</td>\n",
       "      <td>0.0</td>\n",
       "      <td>0.0</td>\n",
       "      <td>0.0</td>\n",
       "      <td>positive</td>\n",
       "      <td>No</td>\n",
       "      <td>None</td>\n",
       "      <td>Contact with confirmed</td>\n",
       "    </tr>\n",
       "    <tr>\n",
       "      <th>274324</th>\n",
       "      <td>0.0</td>\n",
       "      <td>1</td>\n",
       "      <td>0.0</td>\n",
       "      <td>0.0</td>\n",
       "      <td>0.0</td>\n",
       "      <td>positive</td>\n",
       "      <td>No</td>\n",
       "      <td>None</td>\n",
       "      <td>Abroad</td>\n",
       "    </tr>\n",
       "    <tr>\n",
       "      <th>274334</th>\n",
       "      <td>0.0</td>\n",
       "      <td>1</td>\n",
       "      <td>0.0</td>\n",
       "      <td>0.0</td>\n",
       "      <td>0.0</td>\n",
       "      <td>negative</td>\n",
       "      <td>Yes</td>\n",
       "      <td>None</td>\n",
       "      <td>Abroad</td>\n",
       "    </tr>\n",
       "  </tbody>\n",
       "</table>\n",
       "<p>23394 rows × 9 columns</p>\n",
       "</div>"
      ],
      "text/plain": [
       "        cough fever  sore_throat  shortness_of_breath  head_ache  \\\n",
       "122811    0.0     1          0.0                  0.0        0.0   \n",
       "122814    0.0     0          0.0                  0.0        0.0   \n",
       "122815    1.0     0          0.0                  0.0        0.0   \n",
       "122823    1.0     1          1.0                  0.0        0.0   \n",
       "122824    0.0     0          0.0                  0.0        0.0   \n",
       "...       ...   ...          ...                  ...        ...   \n",
       "274297    0.0     1          0.0                  0.0        1.0   \n",
       "274309    0.0     0          0.0                  0.0        0.0   \n",
       "274315    1.0     1          0.0                  0.0        0.0   \n",
       "274324    0.0     1          0.0                  0.0        0.0   \n",
       "274334    0.0     1          0.0                  0.0        0.0   \n",
       "\n",
       "       corona_result age_60_and_above  gender         test_indication  \n",
       "122811      negative               No  female                  Abroad  \n",
       "122814      negative               No  female                  Abroad  \n",
       "122815      positive               No  female  Contact with confirmed  \n",
       "122823      negative               No    male  Contact with confirmed  \n",
       "122824      negative               No    male  Contact with confirmed  \n",
       "...              ...              ...     ...                     ...  \n",
       "274297      positive               No    None  Contact with confirmed  \n",
       "274309      positive              Yes    None  Contact with confirmed  \n",
       "274315      positive               No    None  Contact with confirmed  \n",
       "274324      positive               No    None                  Abroad  \n",
       "274334      negative              Yes    None                  Abroad  \n",
       "\n",
       "[23394 rows x 9 columns]"
      ]
     },
     "execution_count": 27,
     "metadata": {},
     "output_type": "execute_result"
    }
   ],
   "source": [
    "df"
   ]
  },
  {
   "cell_type": "markdown",
   "id": "9caaddeb",
   "metadata": {},
   "source": [
    "# Let's try the first mehod UnderSampling of the majority class "
   ]
  },
  {
   "cell_type": "code",
   "execution_count": 28,
   "id": "523897cc",
   "metadata": {},
   "outputs": [
    {
     "data": {
      "text/html": [
       "<div>\n",
       "<style scoped>\n",
       "    .dataframe tbody tr th:only-of-type {\n",
       "        vertical-align: middle;\n",
       "    }\n",
       "\n",
       "    .dataframe tbody tr th {\n",
       "        vertical-align: top;\n",
       "    }\n",
       "\n",
       "    .dataframe thead th {\n",
       "        text-align: right;\n",
       "    }\n",
       "</style>\n",
       "<table border=\"1\" class=\"dataframe\">\n",
       "  <thead>\n",
       "    <tr style=\"text-align: right;\">\n",
       "      <th></th>\n",
       "      <th>cough</th>\n",
       "      <th>fever</th>\n",
       "      <th>sore_throat</th>\n",
       "      <th>shortness_of_breath</th>\n",
       "      <th>head_ache</th>\n",
       "      <th>corona_result</th>\n",
       "      <th>age_60_and_above</th>\n",
       "      <th>gender</th>\n",
       "      <th>test_indication</th>\n",
       "    </tr>\n",
       "  </thead>\n",
       "  <tbody>\n",
       "    <tr>\n",
       "      <th>122811</th>\n",
       "      <td>0.0</td>\n",
       "      <td>1</td>\n",
       "      <td>0.0</td>\n",
       "      <td>0.0</td>\n",
       "      <td>0.0</td>\n",
       "      <td>negative</td>\n",
       "      <td>No</td>\n",
       "      <td>female</td>\n",
       "      <td>Abroad</td>\n",
       "    </tr>\n",
       "    <tr>\n",
       "      <th>122814</th>\n",
       "      <td>0.0</td>\n",
       "      <td>0</td>\n",
       "      <td>0.0</td>\n",
       "      <td>0.0</td>\n",
       "      <td>0.0</td>\n",
       "      <td>negative</td>\n",
       "      <td>No</td>\n",
       "      <td>female</td>\n",
       "      <td>Abroad</td>\n",
       "    </tr>\n",
       "    <tr>\n",
       "      <th>122815</th>\n",
       "      <td>1.0</td>\n",
       "      <td>0</td>\n",
       "      <td>0.0</td>\n",
       "      <td>0.0</td>\n",
       "      <td>0.0</td>\n",
       "      <td>positive</td>\n",
       "      <td>No</td>\n",
       "      <td>female</td>\n",
       "      <td>Contact with confirmed</td>\n",
       "    </tr>\n",
       "    <tr>\n",
       "      <th>122823</th>\n",
       "      <td>1.0</td>\n",
       "      <td>1</td>\n",
       "      <td>1.0</td>\n",
       "      <td>0.0</td>\n",
       "      <td>0.0</td>\n",
       "      <td>negative</td>\n",
       "      <td>No</td>\n",
       "      <td>male</td>\n",
       "      <td>Contact with confirmed</td>\n",
       "    </tr>\n",
       "    <tr>\n",
       "      <th>122824</th>\n",
       "      <td>0.0</td>\n",
       "      <td>0</td>\n",
       "      <td>0.0</td>\n",
       "      <td>0.0</td>\n",
       "      <td>0.0</td>\n",
       "      <td>negative</td>\n",
       "      <td>No</td>\n",
       "      <td>male</td>\n",
       "      <td>Contact with confirmed</td>\n",
       "    </tr>\n",
       "  </tbody>\n",
       "</table>\n",
       "</div>"
      ],
      "text/plain": [
       "        cough fever  sore_throat  shortness_of_breath  head_ache  \\\n",
       "122811    0.0     1          0.0                  0.0        0.0   \n",
       "122814    0.0     0          0.0                  0.0        0.0   \n",
       "122815    1.0     0          0.0                  0.0        0.0   \n",
       "122823    1.0     1          1.0                  0.0        0.0   \n",
       "122824    0.0     0          0.0                  0.0        0.0   \n",
       "\n",
       "       corona_result age_60_and_above  gender         test_indication  \n",
       "122811      negative               No  female                  Abroad  \n",
       "122814      negative               No  female                  Abroad  \n",
       "122815      positive               No  female  Contact with confirmed  \n",
       "122823      negative               No    male  Contact with confirmed  \n",
       "122824      negative               No    male  Contact with confirmed  "
      ]
     },
     "execution_count": 28,
     "metadata": {},
     "output_type": "execute_result"
    }
   ],
   "source": [
    "df.head()"
   ]
  },
  {
   "cell_type": "code",
   "execution_count": 29,
   "id": "322c6422",
   "metadata": {},
   "outputs": [],
   "source": [
    "# split all possible outcomes of the target feature\n",
    "\n",
    "class_negative =  df[df['corona_result']== 'negative']\n",
    "class_positive =  df[df['corona_result']== 'positive']"
   ]
  },
  {
   "cell_type": "code",
   "execution_count": 30,
   "id": "8fbe526f",
   "metadata": {},
   "outputs": [],
   "source": [
    "# specify the length of each possible outcome of the target feature\n",
    "\n",
    "class_negative_len = len(class_negative)\n",
    "class_positive_len = len(class_positive)"
   ]
  },
  {
   "cell_type": "markdown",
   "id": "beb5a394",
   "metadata": {},
   "source": [
    "# Checking The Shape"
   ]
  },
  {
   "cell_type": "code",
   "execution_count": 31,
   "id": "e7b62340",
   "metadata": {},
   "outputs": [
    {
     "data": {
      "text/plain": [
       "(16248, 9)"
      ]
     },
     "execution_count": 31,
     "metadata": {},
     "output_type": "execute_result"
    }
   ],
   "source": [
    "class_negative.shape"
   ]
  },
  {
   "cell_type": "code",
   "execution_count": 33,
   "id": "f469cc5e",
   "metadata": {},
   "outputs": [
    {
     "data": {
      "text/plain": [
       "(7146, 9)"
      ]
     },
     "execution_count": 33,
     "metadata": {},
     "output_type": "execute_result"
    }
   ],
   "source": [
    "class_positive.shape"
   ]
  },
  {
   "cell_type": "markdown",
   "id": "f29b9547",
   "metadata": {},
   "source": [
    "# We Will use the sample function in pandas by specifying a number and it will selects random rows out of the DF"
   ]
  },
  {
   "cell_type": "code",
   "execution_count": 34,
   "id": "52f40dd3",
   "metadata": {},
   "outputs": [],
   "source": [
    "class_negative = class_negative.sample(7146)"
   ]
  },
  {
   "cell_type": "code",
   "execution_count": 35,
   "id": "d8dbc2f8",
   "metadata": {},
   "outputs": [],
   "source": [
    "df_underS = pd.concat([class_negative ,class_positive],axis=0 )"
   ]
  },
  {
   "cell_type": "code",
   "execution_count": 36,
   "id": "5793e094",
   "metadata": {},
   "outputs": [
    {
     "data": {
      "text/html": [
       "<div>\n",
       "<style scoped>\n",
       "    .dataframe tbody tr th:only-of-type {\n",
       "        vertical-align: middle;\n",
       "    }\n",
       "\n",
       "    .dataframe tbody tr th {\n",
       "        vertical-align: top;\n",
       "    }\n",
       "\n",
       "    .dataframe thead th {\n",
       "        text-align: right;\n",
       "    }\n",
       "</style>\n",
       "<table border=\"1\" class=\"dataframe\">\n",
       "  <thead>\n",
       "    <tr style=\"text-align: right;\">\n",
       "      <th></th>\n",
       "      <th>cough</th>\n",
       "      <th>fever</th>\n",
       "      <th>sore_throat</th>\n",
       "      <th>shortness_of_breath</th>\n",
       "      <th>head_ache</th>\n",
       "      <th>corona_result</th>\n",
       "      <th>age_60_and_above</th>\n",
       "      <th>gender</th>\n",
       "      <th>test_indication</th>\n",
       "    </tr>\n",
       "  </thead>\n",
       "  <tbody>\n",
       "    <tr>\n",
       "      <th>158457</th>\n",
       "      <td>1.0</td>\n",
       "      <td>1</td>\n",
       "      <td>0.0</td>\n",
       "      <td>0.0</td>\n",
       "      <td>0.0</td>\n",
       "      <td>negative</td>\n",
       "      <td>No</td>\n",
       "      <td>male</td>\n",
       "      <td>Abroad</td>\n",
       "    </tr>\n",
       "    <tr>\n",
       "      <th>202234</th>\n",
       "      <td>1.0</td>\n",
       "      <td>1</td>\n",
       "      <td>0.0</td>\n",
       "      <td>0.0</td>\n",
       "      <td>0.0</td>\n",
       "      <td>negative</td>\n",
       "      <td>No</td>\n",
       "      <td>male</td>\n",
       "      <td>Contact with confirmed</td>\n",
       "    </tr>\n",
       "    <tr>\n",
       "      <th>258841</th>\n",
       "      <td>0.0</td>\n",
       "      <td>0</td>\n",
       "      <td>0.0</td>\n",
       "      <td>0.0</td>\n",
       "      <td>0.0</td>\n",
       "      <td>negative</td>\n",
       "      <td>No</td>\n",
       "      <td>male</td>\n",
       "      <td>Abroad</td>\n",
       "    </tr>\n",
       "    <tr>\n",
       "      <th>178323</th>\n",
       "      <td>1.0</td>\n",
       "      <td>1</td>\n",
       "      <td>0.0</td>\n",
       "      <td>0.0</td>\n",
       "      <td>0.0</td>\n",
       "      <td>negative</td>\n",
       "      <td>No</td>\n",
       "      <td>male</td>\n",
       "      <td>Contact with confirmed</td>\n",
       "    </tr>\n",
       "    <tr>\n",
       "      <th>153036</th>\n",
       "      <td>0.0</td>\n",
       "      <td>0</td>\n",
       "      <td>0.0</td>\n",
       "      <td>0.0</td>\n",
       "      <td>0.0</td>\n",
       "      <td>negative</td>\n",
       "      <td>No</td>\n",
       "      <td>male</td>\n",
       "      <td>Abroad</td>\n",
       "    </tr>\n",
       "    <tr>\n",
       "      <th>...</th>\n",
       "      <td>...</td>\n",
       "      <td>...</td>\n",
       "      <td>...</td>\n",
       "      <td>...</td>\n",
       "      <td>...</td>\n",
       "      <td>...</td>\n",
       "      <td>...</td>\n",
       "      <td>...</td>\n",
       "      <td>...</td>\n",
       "    </tr>\n",
       "    <tr>\n",
       "      <th>274284</th>\n",
       "      <td>1.0</td>\n",
       "      <td>1</td>\n",
       "      <td>0.0</td>\n",
       "      <td>0.0</td>\n",
       "      <td>0.0</td>\n",
       "      <td>positive</td>\n",
       "      <td>No</td>\n",
       "      <td>None</td>\n",
       "      <td>Contact with confirmed</td>\n",
       "    </tr>\n",
       "    <tr>\n",
       "      <th>274297</th>\n",
       "      <td>0.0</td>\n",
       "      <td>1</td>\n",
       "      <td>0.0</td>\n",
       "      <td>0.0</td>\n",
       "      <td>1.0</td>\n",
       "      <td>positive</td>\n",
       "      <td>No</td>\n",
       "      <td>None</td>\n",
       "      <td>Contact with confirmed</td>\n",
       "    </tr>\n",
       "    <tr>\n",
       "      <th>274309</th>\n",
       "      <td>0.0</td>\n",
       "      <td>0</td>\n",
       "      <td>0.0</td>\n",
       "      <td>0.0</td>\n",
       "      <td>0.0</td>\n",
       "      <td>positive</td>\n",
       "      <td>Yes</td>\n",
       "      <td>None</td>\n",
       "      <td>Contact with confirmed</td>\n",
       "    </tr>\n",
       "    <tr>\n",
       "      <th>274315</th>\n",
       "      <td>1.0</td>\n",
       "      <td>1</td>\n",
       "      <td>0.0</td>\n",
       "      <td>0.0</td>\n",
       "      <td>0.0</td>\n",
       "      <td>positive</td>\n",
       "      <td>No</td>\n",
       "      <td>None</td>\n",
       "      <td>Contact with confirmed</td>\n",
       "    </tr>\n",
       "    <tr>\n",
       "      <th>274324</th>\n",
       "      <td>0.0</td>\n",
       "      <td>1</td>\n",
       "      <td>0.0</td>\n",
       "      <td>0.0</td>\n",
       "      <td>0.0</td>\n",
       "      <td>positive</td>\n",
       "      <td>No</td>\n",
       "      <td>None</td>\n",
       "      <td>Abroad</td>\n",
       "    </tr>\n",
       "  </tbody>\n",
       "</table>\n",
       "<p>14292 rows × 9 columns</p>\n",
       "</div>"
      ],
      "text/plain": [
       "        cough fever  sore_throat  shortness_of_breath  head_ache  \\\n",
       "158457    1.0     1          0.0                  0.0        0.0   \n",
       "202234    1.0     1          0.0                  0.0        0.0   \n",
       "258841    0.0     0          0.0                  0.0        0.0   \n",
       "178323    1.0     1          0.0                  0.0        0.0   \n",
       "153036    0.0     0          0.0                  0.0        0.0   \n",
       "...       ...   ...          ...                  ...        ...   \n",
       "274284    1.0     1          0.0                  0.0        0.0   \n",
       "274297    0.0     1          0.0                  0.0        1.0   \n",
       "274309    0.0     0          0.0                  0.0        0.0   \n",
       "274315    1.0     1          0.0                  0.0        0.0   \n",
       "274324    0.0     1          0.0                  0.0        0.0   \n",
       "\n",
       "       corona_result age_60_and_above gender         test_indication  \n",
       "158457      negative               No   male                  Abroad  \n",
       "202234      negative               No   male  Contact with confirmed  \n",
       "258841      negative               No   male                  Abroad  \n",
       "178323      negative               No   male  Contact with confirmed  \n",
       "153036      negative               No   male                  Abroad  \n",
       "...              ...              ...    ...                     ...  \n",
       "274284      positive               No   None  Contact with confirmed  \n",
       "274297      positive               No   None  Contact with confirmed  \n",
       "274309      positive              Yes   None  Contact with confirmed  \n",
       "274315      positive               No   None  Contact with confirmed  \n",
       "274324      positive               No   None                  Abroad  \n",
       "\n",
       "[14292 rows x 9 columns]"
      ]
     },
     "execution_count": 36,
     "metadata": {},
     "output_type": "execute_result"
    }
   ],
   "source": [
    "df_underS"
   ]
  },
  {
   "cell_type": "code",
   "execution_count": 37,
   "id": "074fe09d",
   "metadata": {},
   "outputs": [
    {
     "data": {
      "text/plain": [
       "(7146, 9)"
      ]
     },
     "execution_count": 37,
     "metadata": {},
     "output_type": "execute_result"
    }
   ],
   "source": [
    "class_negative.shape"
   ]
  },
  {
   "cell_type": "code",
   "execution_count": 38,
   "id": "9a154b0e",
   "metadata": {},
   "outputs": [
    {
     "data": {
      "text/plain": [
       "Text(0.5, 1.0, 'Count in the corona result')"
      ]
     },
     "execution_count": 38,
     "metadata": {},
     "output_type": "execute_result"
    },
    {
     "data": {
      "image/png": "[encoded data removed]",
      "text/plain": [
       "<Figure size 432x288 with 1 Axes>"
      ]
     },
     "metadata": {
      "needs_background": "light"
     },
     "output_type": "display_data"
    }
   ],
   "source": [
    "sns.countplot(df_underS['corona_result'])\n",
    "plt.title(\"Count in the corona result\")"
   ]
  },
  {
   "cell_type": "markdown",
   "id": "5bb30bc7",
   "metadata": {},
   "source": [
    "# Now Our new DF have 14292  row and it is now balanced "
   ]
  },
  {
   "cell_type": "code",
   "execution_count": 39,
   "id": "99a306cb",
   "metadata": {},
   "outputs": [
    {
     "data": {
      "text/html": [
       "<div>\n",
       "<style scoped>\n",
       "    .dataframe tbody tr th:only-of-type {\n",
       "        vertical-align: middle;\n",
       "    }\n",
       "\n",
       "    .dataframe tbody tr th {\n",
       "        vertical-align: top;\n",
       "    }\n",
       "\n",
       "    .dataframe thead th {\n",
       "        text-align: right;\n",
       "    }\n",
       "</style>\n",
       "<table border=\"1\" class=\"dataframe\">\n",
       "  <thead>\n",
       "    <tr style=\"text-align: right;\">\n",
       "      <th></th>\n",
       "      <th>cough</th>\n",
       "      <th>fever</th>\n",
       "      <th>sore_throat</th>\n",
       "      <th>shortness_of_breath</th>\n",
       "      <th>head_ache</th>\n",
       "      <th>corona_result</th>\n",
       "      <th>age_60_and_above</th>\n",
       "      <th>gender</th>\n",
       "      <th>test_indication</th>\n",
       "    </tr>\n",
       "  </thead>\n",
       "  <tbody>\n",
       "    <tr>\n",
       "      <th>158457</th>\n",
       "      <td>1.0</td>\n",
       "      <td>1</td>\n",
       "      <td>0.0</td>\n",
       "      <td>0.0</td>\n",
       "      <td>0.0</td>\n",
       "      <td>0</td>\n",
       "      <td>0</td>\n",
       "      <td>2</td>\n",
       "      <td>0</td>\n",
       "    </tr>\n",
       "    <tr>\n",
       "      <th>202234</th>\n",
       "      <td>1.0</td>\n",
       "      <td>1</td>\n",
       "      <td>0.0</td>\n",
       "      <td>0.0</td>\n",
       "      <td>0.0</td>\n",
       "      <td>0</td>\n",
       "      <td>0</td>\n",
       "      <td>2</td>\n",
       "      <td>1</td>\n",
       "    </tr>\n",
       "    <tr>\n",
       "      <th>258841</th>\n",
       "      <td>0.0</td>\n",
       "      <td>0</td>\n",
       "      <td>0.0</td>\n",
       "      <td>0.0</td>\n",
       "      <td>0.0</td>\n",
       "      <td>0</td>\n",
       "      <td>0</td>\n",
       "      <td>2</td>\n",
       "      <td>0</td>\n",
       "    </tr>\n",
       "    <tr>\n",
       "      <th>178323</th>\n",
       "      <td>1.0</td>\n",
       "      <td>1</td>\n",
       "      <td>0.0</td>\n",
       "      <td>0.0</td>\n",
       "      <td>0.0</td>\n",
       "      <td>0</td>\n",
       "      <td>0</td>\n",
       "      <td>2</td>\n",
       "      <td>1</td>\n",
       "    </tr>\n",
       "    <tr>\n",
       "      <th>153036</th>\n",
       "      <td>0.0</td>\n",
       "      <td>0</td>\n",
       "      <td>0.0</td>\n",
       "      <td>0.0</td>\n",
       "      <td>0.0</td>\n",
       "      <td>0</td>\n",
       "      <td>0</td>\n",
       "      <td>2</td>\n",
       "      <td>0</td>\n",
       "    </tr>\n",
       "  </tbody>\n",
       "</table>\n",
       "</div>"
      ],
      "text/plain": [
       "        cough fever  sore_throat  shortness_of_breath  head_ache  \\\n",
       "158457    1.0     1          0.0                  0.0        0.0   \n",
       "202234    1.0     1          0.0                  0.0        0.0   \n",
       "258841    0.0     0          0.0                  0.0        0.0   \n",
       "178323    1.0     1          0.0                  0.0        0.0   \n",
       "153036    0.0     0          0.0                  0.0        0.0   \n",
       "\n",
       "        corona_result  age_60_and_above  gender  test_indication  \n",
       "158457              0                 0       2                0  \n",
       "202234              0                 0       2                1  \n",
       "258841              0                 0       2                0  \n",
       "178323              0                 0       2                1  \n",
       "153036              0                 0       2                0  "
      ]
     },
     "execution_count": 39,
     "metadata": {},
     "output_type": "execute_result"
    }
   ],
   "source": [
    "# lable Enconding for categorical columns\n",
    "from sklearn.preprocessing import LabelEncoder\n",
    "cols =['corona_result', 'age_60_and_above','gender','test_indication']\n",
    "le = LabelEncoder()\n",
    "\n",
    "for col in cols:\n",
    "    df_underS[col] = le.fit_transform(df_underS[col])\n",
    "    \n",
    "df_underS.head()"
   ]
  },
  {
   "cell_type": "code",
   "execution_count": 40,
   "id": "92b65d26",
   "metadata": {},
   "outputs": [],
   "source": [
    "x = df_underS.drop(columns=['corona_result'], axis=1) \n",
    "y = df_underS['corona_result']"
   ]
  },
  {
   "cell_type": "code",
   "execution_count": 41,
   "id": "b4368bd5",
   "metadata": {},
   "outputs": [],
   "source": [
    "# Specify the hyperparameter \n",
    "parameters = {'SVM__C': [1, 10, 100],#3\n",
    "              'SVM__gamma': [0.1, 0.01],#2\n",
    "              'SVM__kernel': ['rbf']}#1\n",
    "\n",
    "# Create train and test sets\n",
    "X_train, X_test, y_train, y_test = train_test_split(x,y,test_size=0.2, random_state=21 , stratify =y)"
   ]
  },
  {
   "cell_type": "code",
   "execution_count": 42,
   "id": "87adfd9f",
   "metadata": {},
   "outputs": [],
   "source": [
    "# Setup the pipeline\n",
    "steps = [('imputation', SimpleImputer(missing_values='None',strategy='most_frequent', add_indicator=True)),\n",
    "        ('scaler', StandardScaler()),\n",
    "         ('SVM', SVC())]"
   ]
  },
  {
   "cell_type": "code",
   "execution_count": 43,
   "id": "a23b3edb",
   "metadata": {},
   "outputs": [],
   "source": [
    "# instantiate the pipeline\n",
    "pipeline = Pipeline(steps)"
   ]
  },
  {
   "cell_type": "code",
   "execution_count": 44,
   "id": "c0b34ce2",
   "metadata": {},
   "outputs": [],
   "source": [
    "# instantiate the GridSeachCV\n",
    "cv = GridSearchCV(pipeline, param_grid=parameters)"
   ]
  },
  {
   "cell_type": "code",
   "execution_count": 45,
   "id": "82490ba9",
   "metadata": {},
   "outputs": [
    {
     "data": {
      "text/plain": [
       "GridSearchCV(estimator=Pipeline(steps=[('imputation',\n",
       "                                        SimpleImputer(add_indicator=True,\n",
       "                                                      missing_values='None',\n",
       "                                                      strategy='most_frequent')),\n",
       "                                       ('scaler', StandardScaler()),\n",
       "                                       ('SVM', SVC())]),\n",
       "             param_grid={'SVM__C': [1, 10, 100], 'SVM__gamma': [0.1, 0.01],\n",
       "                         'SVM__kernel': ['rbf']})"
      ]
     },
     "execution_count": 45,
     "metadata": {},
     "output_type": "execute_result"
    }
   ],
   "source": [
    "# Fit to the training set\n",
    "cv.fit(X_train, y_train)"
   ]
  },
  {
   "cell_type": "markdown",
   "id": "3039b182",
   "metadata": {},
   "source": [
    "# Note: it takes too long to fit the model"
   ]
  },
  {
   "cell_type": "code",
   "execution_count": 46,
   "id": "75eb0f0a",
   "metadata": {},
   "outputs": [],
   "source": [
    "y_pred = cv.predict(X_test)"
   ]
  },
  {
   "cell_type": "code",
   "execution_count": 47,
   "id": "f734dcc9",
   "metadata": {},
   "outputs": [
    {
     "data": {
      "text/plain": [
       "array([[1191,  238],\n",
       "       [ 206, 1224]], dtype=int64)"
      ]
     },
     "execution_count": 47,
     "metadata": {},
     "output_type": "execute_result"
    }
   ],
   "source": [
    "confusion_matrix(y_test, y_pred)"
   ]
  },
  {
   "cell_type": "code",
   "execution_count": 48,
   "id": "8512bacf",
   "metadata": {},
   "outputs": [
    {
     "name": "stdout",
     "output_type": "stream",
     "text": [
      "Accuracy: 0.844700944386149\n",
      "              precision    recall  f1-score   support\n",
      "\n",
      "           0       0.85      0.83      0.84      1429\n",
      "           1       0.84      0.86      0.85      1430\n",
      "\n",
      "    accuracy                           0.84      2859\n",
      "   macro avg       0.84      0.84      0.84      2859\n",
      "weighted avg       0.84      0.84      0.84      2859\n",
      "\n",
      "Tuned Model Parameters: {'SVM__C': 1, 'SVM__gamma': 0.1, 'SVM__kernel': 'rbf'}\n"
     ]
    }
   ],
   "source": [
    "print(\"Accuracy: {}\".format(cv.score(X_test, y_test)))\n",
    "print(classification_report(y_test, y_pred))\n",
    "print(\"Tuned Model Parameters: {}\".format(cv.best_params_))"
   ]
  },
  {
   "cell_type": "code",
   "execution_count": 49,
   "id": "2dfe8530",
   "metadata": {},
   "outputs": [
    {
     "name": "stdout",
     "output_type": "stream",
     "text": [
      "Accuracy: 0.8454004896817069\n",
      "              precision    recall  f1-score   support\n",
      "\n",
      "           0       0.85      0.84      0.84      1429\n",
      "           1       0.84      0.85      0.85      1430\n",
      "\n",
      "    accuracy                           0.85      2859\n",
      "   macro avg       0.85      0.85      0.85      2859\n",
      "weighted avg       0.85      0.85      0.85      2859\n",
      "\n",
      "Tuned Model Parameters: {'RandomForest__class_weight': 'balanced', 'RandomForest__criterion': 'entropy', 'RandomForest__max_features': 'auto'}\n"
     ]
    }
   ],
   "source": [
    "from sklearn.ensemble import RandomForestClassifier\n",
    "\n",
    "\n",
    "parameters = {'RandomForest__criterion':['gini', 'entropy'],\n",
    "              'RandomForest__max_features':['auto', 'sqrt', 'log2'],\n",
    "              'RandomForest__class_weight':['balanced', 'balanced_subsample']\n",
    "             \n",
    "             \n",
    "             }\n",
    "\n",
    "# \n",
    "# Setup the pipeline\n",
    "steps = [('scaler', StandardScaler()),\n",
    "         ('RandomForest', RandomForestClassifier())]\n",
    "\n",
    "\n",
    "# instantiate the pipeline\n",
    "pipeline = Pipeline(steps)\n",
    "\n",
    "# instantiate the GridSeachCV\n",
    "cv = GridSearchCV(pipeline, param_grid=parameters)\n",
    "# Fit to the training set\n",
    "cv.fit(X_train, y_train)\n",
    "\n",
    "y_pred = cv.predict(X_test)\n",
    "\n",
    "confusion_matrix(y_test, y_pred)\n",
    "\n",
    "print(\"Accuracy: {}\".format(cv.score(X_test, y_test)))\n",
    "print(classification_report(y_test, y_pred))\n",
    "print(\"Tuned Model Parameters: {}\".format(cv.best_params_))\n",
    "\n",
    "\n"
   ]
  },
  {
   "cell_type": "markdown",
   "id": "5ea83dd5",
   "metadata": {},
   "source": [
    "# Mehod #2 Oversampling of the minority class "
   ]
  },
  {
   "cell_type": "code",
   "execution_count": null,
   "id": "7876d1b9",
   "metadata": {},
   "outputs": [],
   "source": [
    "# split all possible outcomes of the target feature\n",
    "class_negative =  df[df['corona_result']== 'negative']\n",
    "class_positive =  df[df['corona_result']== 'positive']"
   ]
  },
  {
   "cell_type": "code",
   "execution_count": null,
   "id": "bf74895a",
   "metadata": {},
   "outputs": [],
   "source": [
    "class_negative.shape"
   ]
  },
  {
   "cell_type": "code",
   "execution_count": null,
   "id": "92d60220",
   "metadata": {},
   "outputs": [],
   "source": [
    "class_positive.shape"
   ]
  },
  {
   "cell_type": "code",
   "execution_count": null,
   "id": "0e05ef23",
   "metadata": {},
   "outputs": [],
   "source": [
    "# we duplicated the minority class\n",
    "overS_class_p = class_positive.sample(260227 , replace=True)"
   ]
  },
  {
   "cell_type": "code",
   "execution_count": null,
   "id": "455b080b",
   "metadata": {},
   "outputs": [],
   "source": [
    "overS_class_p"
   ]
  },
  {
   "cell_type": "code",
   "execution_count": null,
   "id": "0238bb44",
   "metadata": {},
   "outputs": [],
   "source": [
    "df_OverS = pd.concat([class_negative ,overS_class_p],axis=0 )"
   ]
  },
  {
   "cell_type": "code",
   "execution_count": null,
   "id": "2d46904e",
   "metadata": {},
   "outputs": [],
   "source": [
    "df_OverS"
   ]
  },
  {
   "cell_type": "code",
   "execution_count": null,
   "id": "99eef9ab",
   "metadata": {},
   "outputs": [],
   "source": [
    "# lable Enconding for categorical columns\n",
    "from sklearn.preprocessing import LabelEncoder\n",
    "cols =['corona_result', 'age_60_and_above','gender','test_indication']\n",
    "le = LabelEncoder()\n",
    "\n",
    "for col in cols:\n",
    "    df_OverS[col] = le.fit_transform(df_OverS[col])\n",
    "    \n",
    "df_OverS.head()"
   ]
  },
  {
   "cell_type": "code",
   "execution_count": null,
   "id": "e8c7671a",
   "metadata": {},
   "outputs": [],
   "source": [
    "x = df_OverS.drop(columns=['corona_result'], axis=1) \n",
    "y = df_OverS['corona_result']"
   ]
  },
  {
   "cell_type": "code",
   "execution_count": null,
   "id": "e0b9b49f",
   "metadata": {},
   "outputs": [],
   "source": [
    "yx"
   ]
  },
  {
   "cell_type": "code",
   "execution_count": null,
   "id": "a8f7db32",
   "metadata": {},
   "outputs": [],
   "source": [
    "# Specify the hyperparameter \n",
    "parameters = {'SVM__C': [1, 10, 100],#3\n",
    "              'SVM__gamma': [0.1, 0.01],#2\n",
    "              'SVM__kernel': ['rbf']}#1\n",
    "\n",
    "# Create train and test sets\n",
    "X_train, X_test, y_train, y_test = train_test_split(x,y,test_size=0.2, random_state=21 , stratify =y)"
   ]
  },
  {
   "cell_type": "code",
   "execution_count": null,
   "id": "3c6c8c5a",
   "metadata": {},
   "outputs": [],
   "source": [
    "# Setup the pipeline\n",
    "steps = [('imputation', SimpleImputer(missing_values='None',strategy='most_frequent', add_indicator=True)),\n",
    "        ('scaler', StandardScaler()),\n",
    "         ('SVM', SVC())]"
   ]
  },
  {
   "cell_type": "code",
   "execution_count": null,
   "id": "2e7f9571",
   "metadata": {},
   "outputs": [],
   "source": [
    "# instantiate the pipeline\n",
    "pipeline_1 = Pipeline(steps)"
   ]
  },
  {
   "cell_type": "code",
   "execution_count": null,
   "id": "e677d210",
   "metadata": {},
   "outputs": [],
   "source": [
    "# instantiate the GridSeachCV\n",
    "cv_1 = GridSearchCV(pipeline_1, param_grid=parameters)"
   ]
  },
  {
   "cell_type": "code",
   "execution_count": null,
   "id": "1de0576e",
   "metadata": {},
   "outputs": [],
   "source": [
    "# Fit to the training set\n",
    "cv_1.fit(X_train, y_train)"
   ]
  },
  {
   "cell_type": "markdown",
   "id": "f599da70",
   "metadata": {},
   "source": [
    "# Note: it takes too long to fit the model"
   ]
  },
  {
   "cell_type": "code",
   "execution_count": null,
   "id": "799ee360",
   "metadata": {},
   "outputs": [],
   "source": [
    "y_pred = cv.predict(X_test)"
   ]
  },
  {
   "cell_type": "code",
   "execution_count": null,
   "id": "9d885bb1",
   "metadata": {},
   "outputs": [],
   "source": [
    "confusion_matrix(y_test, y_pred)"
   ]
  },
  {
   "cell_type": "code",
   "execution_count": null,
   "id": "ddfeeef2",
   "metadata": {},
   "outputs": [],
   "source": [
    "print(\"Accuracy: {}\".format(cv.score(X_test, y_test)))\n",
    "print(classification_report(y_test, y_pred))\n",
    "print(\"Tuned Model Parameters: {}\".format(cv.best_params_))"
   ]
  }
 ],
 "metadata": {
  "kernelspec": {
   "display_name": "Python 3",
   "language": "python",
   "name": "python3"
  },
  "language_info": {
   "codemirror_mode": {
    "name": "ipython",
    "version": 3
   },
   "file_extension": ".py",
   "mimetype": "text/x-python",
   "name": "python",
   "nbconvert_exporter": "python",
   "pygments_lexer": "ipython3",
   "version": "3.8.8"
  }
 },
 "nbformat": 4,
 "nbformat_minor": 5
}
